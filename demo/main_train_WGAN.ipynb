{
 "cells": [
  {
   "cell_type": "code",
   "execution_count": 1,
   "metadata": {},
   "outputs": [
    {
     "name": "stderr",
     "output_type": "stream",
     "text": [
      "Using TensorFlow backend.\n"
     ]
    }
   ],
   "source": [
    "import sys\n",
    "import util\n",
    "from wgan import *\n",
    "import dataloader\n",
    "import scipy.io as sio"
   ]
  },
  {
   "cell_type": "code",
   "execution_count": 2,
   "metadata": {},
   "outputs": [
    {
     "name": "stdout",
     "output_type": "stream",
     "text": [
      "(60480, 80, 80)\n",
      "(60000, 80, 80) (480, 80, 80)\n",
      "(60000, 80, 80, 1) (480, 80, 80, 1)\n"
     ]
    }
   ],
   "source": [
    "N_X = 80\n",
    "N_Y = 80\n",
    "TRAIN_BUF=60000\n",
    "BATCH_SIZE=128\n",
    "TEST_BUF=10000\n",
    "\n",
    "# generate samples\n",
    "PATH = 'data\\TI3D.mat'\n",
    "images = dataloader.sliceTI(sio.loadmat(PATH)['features'], N_X, N_Y, dx=3, dy=3)\n",
    "perm_index = np.random.permutation(images.shape[0])\n",
    "images = images[perm_index]\n",
    "train_images = images[:TRAIN_BUF]\n",
    "test_images = images[TRAIN_BUF:]\n",
    "print(images.shape)\n",
    "print(train_images.shape, test_images.shape)\n",
    "\n",
    "# reshape dataset\n",
    "train_images = train_images.reshape(train_images.shape[0], N_X, N_Y, 1).astype(\"float32\")\n",
    "test_images = test_images.reshape(test_images.shape[0], N_X, N_Y, 1).astype(\"float32\")\n",
    "print(train_images.shape, test_images.shape)\n",
    "\n",
    "# visualize the sliced images\n",
    "util.plot_tile(train_images[:25,:,:], name='Dim{}x{}'.format(N_X,N_Y))"
   ]
  },
  {
   "cell_type": "code",
   "execution_count": null,
   "metadata": {},
   "outputs": [],
   "source": [
    "# train wgan model:\n",
    "wass_gan = WGan80(train_images, z_dim=10, name=\"wgan_80x80\")\n",
    "# wass_gan.train_wgan(totalEpoch=10, batch_size=128, load=False, checkpoint=1) # check\n",
    "wass_gan.train_wgan(totalEpoch=20000, batch_size=128, load=False, checkpoint=100)"
   ]
  },
  {
   "cell_type": "code",
   "execution_count": null,
   "metadata": {},
   "outputs": [],
   "source": []
  }
 ],
 "metadata": {
  "kernelspec": {
   "display_name": "Python 3.7.6 64-bit ('TF_GPU': conda)",
   "language": "python",
   "name": "python37664bittfgpuconda0095d5bd1d0044ef875e08355e6680e1"
  },
  "toc": {
   "base_numbering": 1,
   "nav_menu": {},
   "number_sections": true,
   "sideBar": true,
   "skip_h1_title": false,
   "title_cell": "Table of Contents",
   "title_sidebar": "Contents",
   "toc_cell": false,
   "toc_position": {},
   "toc_section_display": true,
   "toc_window_display": false
  },
  "varInspector": {
   "cols": {
    "lenName": 16,
    "lenType": 16,
    "lenVar": 40
   },
   "kernels_config": {
    "python": {
     "delete_cmd_postfix": "",
     "delete_cmd_prefix": "del ",
     "library": "var_list.py",
     "varRefreshCmd": "print(var_dic_list())"
    },
    "r": {
     "delete_cmd_postfix": ") ",
     "delete_cmd_prefix": "rm(",
     "library": "var_list.r",
     "varRefreshCmd": "cat(var_dic_list()) "
    }
   },
   "types_to_exclude": [
    "module",
    "function",
    "builtin_function_or_method",
    "instance",
    "_Feature"
   ],
   "window_display": false
  }
 },
 "nbformat": 4,
 "nbformat_minor": 4
}
